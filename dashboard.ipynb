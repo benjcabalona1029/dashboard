{
 "cells": [
  {
   "cell_type": "markdown",
   "metadata": {},
   "source": [
    "Kaggle version of the notebook is <a href=\"https://www.kaggle.com/benjamincabalonajr/decent-score-using-simpler-models\"> here. </a>  Using this notebook (Instead of Kaggle) is recommended to experience interactivity. I've used a python package that will convert this notebook into a Dashboard, which is best for presenting to non technical users.\n",
    "\n",
    "\n",
    "### Steps to maximize experience in this notebook:\n",
    "\n",
    "- Install the packages on the below cell.\n",
    "- In your CLI, run voila dashboard.ipynb"
   ]
  },
  {
   "cell_type": "code",
   "execution_count": null,
   "metadata": {},
   "outputs": [],
   "source": [
    "# !pip install pandas\n",
    "# !pip install numpy\n",
    "# !pip install seaborn\n",
    "# !pip install matplotlib\n",
    "# !pip install ipywidgets\n",
    "# !pip install scipy\n",
    "# !pip install voila\n",
    "# !pip install -U altair vega_datasets notebook vega"
   ]
  },
  {
   "cell_type": "code",
   "execution_count": 1,
   "metadata": {
    "_cell_guid": "b1076dfc-b9ad-4769-8c92-a6c4dae69d19",
    "_uuid": "8f2839f25d086af736a60e9eeb907d3b93b6e0e5"
   },
   "outputs": [],
   "source": [
    "import numpy as np \n",
    "import pandas as pd \n",
    "import seaborn as sns\n",
    "import warnings\n",
    "import matplotlib.pyplot as plt\n",
    "import altair as alt\n",
    "from ipywidgets import interact\n",
    "from scipy.stats import pearsonr\n",
    "\n",
    "%matplotlib inline\n",
    "alt.renderers.enable('notebook')\n",
    "warnings.filterwarnings('ignore')\n",
    "sns.set(style='ticks')"
   ]
  },
  {
   "cell_type": "code",
   "execution_count": 2,
   "metadata": {
    "_cell_guid": "79c7e3d0-c299-4dcb-8224-4455121ee9b0",
    "_uuid": "d629ff2d2480ee46fbb7e2d37f6b5fab8052498a"
   },
   "outputs": [],
   "source": [
    "# for dirname, _, filenames in os.walk('/kaggle/input'):\n",
    "#     for filename in filenames:\n",
    "#         print(os.path.join(dirname, filename))"
   ]
  },
  {
   "cell_type": "code",
   "execution_count": 3,
   "metadata": {},
   "outputs": [
    {
     "data": {
      "text/html": [
       "<div>\n",
       "<style scoped>\n",
       "    .dataframe tbody tr th:only-of-type {\n",
       "        vertical-align: middle;\n",
       "    }\n",
       "\n",
       "    .dataframe tbody tr th {\n",
       "        vertical-align: top;\n",
       "    }\n",
       "\n",
       "    .dataframe thead th {\n",
       "        text-align: right;\n",
       "    }\n",
       "</style>\n",
       "<table border=\"1\" class=\"dataframe\">\n",
       "  <thead>\n",
       "    <tr style=\"text-align: right;\">\n",
       "      <th></th>\n",
       "      <th>Cost</th>\n",
       "      <th>Ad Responses</th>\n",
       "      <th>Location Participation</th>\n",
       "      <th>Revenue</th>\n",
       "    </tr>\n",
       "  </thead>\n",
       "  <tbody>\n",
       "    <tr>\n",
       "      <td>0</td>\n",
       "      <td>2468.194218</td>\n",
       "      <td>7809</td>\n",
       "      <td>0.981410</td>\n",
       "      <td>19998.644579</td>\n",
       "    </tr>\n",
       "    <tr>\n",
       "      <td>1</td>\n",
       "      <td>2479.934984</td>\n",
       "      <td>7974</td>\n",
       "      <td>0.709877</td>\n",
       "      <td>20631.784811</td>\n",
       "    </tr>\n",
       "    <tr>\n",
       "      <td>2</td>\n",
       "      <td>2422.831211</td>\n",
       "      <td>7944</td>\n",
       "      <td>0.256007</td>\n",
       "      <td>20396.132898</td>\n",
       "    </tr>\n",
       "    <tr>\n",
       "      <td>3</td>\n",
       "      <td>2477.629499</td>\n",
       "      <td>8064</td>\n",
       "      <td>0.746282</td>\n",
       "      <td>20730.528821</td>\n",
       "    </tr>\n",
       "    <tr>\n",
       "      <td>4</td>\n",
       "      <td>2467.967981</td>\n",
       "      <td>7903</td>\n",
       "      <td>0.925235</td>\n",
       "      <td>18621.556046</td>\n",
       "    </tr>\n",
       "  </tbody>\n",
       "</table>\n",
       "</div>"
      ],
      "text/plain": [
       "          Cost  Ad Responses  Location Participation       Revenue\n",
       "0  2468.194218          7809                0.981410  19998.644579\n",
       "1  2479.934984          7974                0.709877  20631.784811\n",
       "2  2422.831211          7944                0.256007  20396.132898\n",
       "3  2477.629499          8064                0.746282  20730.528821\n",
       "4  2467.967981          7903                0.925235  18621.556046"
      ]
     },
     "execution_count": 3,
     "metadata": {},
     "output_type": "execute_result"
    }
   ],
   "source": [
    "train = pd.read_csv('train.csv')\n",
    "test = pd.read_csv('test.csv')\n",
    "train.head()"
   ]
  },
  {
   "cell_type": "markdown",
   "metadata": {},
   "source": [
    "We're able to get a slight correlation with Ad Responses only. But intuitively, i think Cost should still be an important predictor. Plotting manually, as interact is not working on rendered notebook."
   ]
  },
  {
   "cell_type": "code",
   "execution_count": 4,
   "metadata": {},
   "outputs": [
    {
     "data": {
      "application/vnd.jupyter.widget-view+json": {
       "model_id": "79debcf48fcc457bb55ec77ad754afe4",
       "version_major": 2,
       "version_minor": 0
      },
      "text/plain": [
       "interactive(children=(Dropdown(description='column', options=('Cost', 'Ad Responses', 'Location Participation'…"
      ]
     },
     "metadata": {},
     "output_type": "display_data"
    }
   ],
   "source": [
    "def plot(column):\n",
    "    g = sns.jointplot(x=column, y=\"Revenue\", data=train, kind='reg',joint_kws={'line_kws':{'color':'cyan'}}) \n",
    "    g.annotate(pearsonr)\n",
    "    plt.show()\n",
    "\n",
    "interactive = interact(plot,column=train.columns)"
   ]
  },
  {
   "cell_type": "code",
   "execution_count": 7,
   "metadata": {},
   "outputs": [],
   "source": [
    "from sklearn.model_selection import train_test_split, cross_val_score\n",
    "from sklearn.linear_model import LinearRegression\n",
    "from sklearn import metrics"
   ]
  },
  {
   "cell_type": "markdown",
   "metadata": {},
   "source": [
    "## Using all available features"
   ]
  },
  {
   "cell_type": "code",
   "execution_count": 8,
   "metadata": {},
   "outputs": [],
   "source": [
    "X = train.drop('Revenue',axis=1)\n",
    "y = train['Revenue']\n",
    "X_train, X_test, y_train, y_test = train_test_split(X, y, test_size=0.20, random_state=42)"
   ]
  },
  {
   "cell_type": "code",
   "execution_count": 9,
   "metadata": {},
   "outputs": [
    {
     "data": {
      "text/plain": [
       "LinearRegression(copy_X=True, fit_intercept=False, n_jobs=None, normalize=False)"
      ]
     },
     "execution_count": 9,
     "metadata": {},
     "output_type": "execute_result"
    }
   ],
   "source": [
    "model = LinearRegression(fit_intercept=False)\n",
    "model.fit(X_train,y_train)"
   ]
  },
  {
   "cell_type": "code",
   "execution_count": 10,
   "metadata": {},
   "outputs": [
    {
     "name": "stdout",
     "output_type": "stream",
     "text": [
      "Model RMSE with 5 cross validation : 881.3798183523224\n",
      "Test RMSE 809.2991133586107\n"
     ]
    }
   ],
   "source": [
    "cv = np.mean(cross_val_score(model, X_train, y_train, cv=5,scoring='neg_mean_squared_error'))\n",
    "print (\"Model RMSE with 5 cross validation :\",np.sqrt(-cv))\n",
    "y_predict_test = model.predict(X_test)\n",
    "score_test = np.sqrt(metrics.mean_squared_error(y_test, y_predict_test))\n",
    "print('Test RMSE',score_test)"
   ]
  },
  {
   "cell_type": "markdown",
   "metadata": {},
   "source": [
    "## Removing the Uncorrelated features"
   ]
  },
  {
   "cell_type": "code",
   "execution_count": 11,
   "metadata": {},
   "outputs": [
    {
     "name": "stdout",
     "output_type": "stream",
     "text": [
      "Model RMSE with 5 cross validation : 889.8860619138013\n",
      "Test RMSE 727.6002668395048\n"
     ]
    }
   ],
   "source": [
    "X = train[['Ad Responses']]\n",
    "y = train['Revenue']\n",
    "X_train, X_test, y_train, y_test = train_test_split(X, y, test_size=0.20, random_state=42)\n",
    "model = LinearRegression(fit_intercept=False)\n",
    "model.fit(X_train,y_train)\n",
    "cv = np.mean(cross_val_score(model, X_train, y_train, cv=5,scoring='neg_mean_squared_error'))\n",
    "print (\"Model RMSE with 5 cross validation :\",np.sqrt(-cv))\n",
    "y_predict_test = model.predict(X_test)\n",
    "score_test = np.sqrt(metrics.mean_squared_error(y_test, y_predict_test))\n",
    "print('Test RMSE',score_test)"
   ]
  },
  {
   "cell_type": "markdown",
   "metadata": {},
   "source": [
    "### Using Ad Responses + Cost"
   ]
  },
  {
   "cell_type": "code",
   "execution_count": 12,
   "metadata": {},
   "outputs": [
    {
     "name": "stdout",
     "output_type": "stream",
     "text": [
      "Model RMSE with 5 cross validation : 892.939120412048\n",
      "Test RMSE 727.991082426755\n"
     ]
    }
   ],
   "source": [
    "X = train[['Ad Responses','Cost']]\n",
    "y = train['Revenue']\n",
    "X_train, X_test, y_train, y_test = train_test_split(X, y, test_size=0.20, random_state=42)\n",
    "model = LinearRegression(fit_intercept=False)\n",
    "model.fit(X_train,y_train)\n",
    "cv = np.mean(cross_val_score(model, X_train, y_train, cv=5,scoring='neg_mean_squared_error'))\n",
    "print (\"Model RMSE with 5 cross validation :\",np.sqrt(-cv))\n",
    "y_predict_test = model.predict(X_test)\n",
    "score_test = np.sqrt(metrics.mean_squared_error(y_test, y_predict_test))\n",
    "print('Test RMSE',score_test)"
   ]
  },
  {
   "cell_type": "markdown",
   "metadata": {},
   "source": [
    "For our final solution, as we can see above the best test performance was achieved with only using the correlated feature. We'll retrain our model with the entire data."
   ]
  },
  {
   "cell_type": "code",
   "execution_count": 13,
   "metadata": {},
   "outputs": [],
   "source": [
    "model.fit(X[['Ad Responses']],y)\n",
    "pred = model.predict(test[['Ad Responses']])"
   ]
  },
  {
   "cell_type": "code",
   "execution_count": 14,
   "metadata": {},
   "outputs": [],
   "source": [
    "predictions= test[['index']].copy()\n",
    "predictions['Revenue'] = pred\n",
    "predictions.to_csv('submission.csv', index=False)"
   ]
  },
  {
   "cell_type": "markdown",
   "metadata": {},
   "source": [
    "### An even simpler model: The Mean of Training Revenue."
   ]
  },
  {
   "cell_type": "code",
   "execution_count": 15,
   "metadata": {},
   "outputs": [
    {
     "name": "stdout",
     "output_type": "stream",
     "text": [
      "RMSE: 772.4861146812424\n"
     ]
    }
   ],
   "source": [
    "prediction = [train['Revenue'].mean()]*len(y_test)\n",
    "score_test = np.sqrt(metrics.mean_squared_error(y_test, prediction))\n",
    "print('RMSE:',score_test)"
   ]
  }
 ],
 "metadata": {
  "kernelspec": {
   "display_name": "Python 3",
   "language": "python",
   "name": "python3"
  },
  "language_info": {
   "codemirror_mode": {
    "name": "ipython",
    "version": 3
   },
   "file_extension": ".py",
   "mimetype": "text/x-python",
   "name": "python",
   "nbconvert_exporter": "python",
   "pygments_lexer": "ipython3",
   "version": "3.6.8"
  }
 },
 "nbformat": 4,
 "nbformat_minor": 1
}
